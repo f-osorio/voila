{
 "cells": [
  {
   "cell_type": "code",
   "execution_count": 1,
   "metadata": {},
   "outputs": [],
   "source": [
    "import plotly\n",
    "import pandas as pd\n",
    "import numpy as np\n",
    "import plotly.graph_objects as go\n",
    "import ipywidgets as widgets"
   ]
  },
  {
   "cell_type": "code",
   "execution_count": 2,
   "metadata": {},
   "outputs": [],
   "source": [
    "jd = pd.read_csv('./data/biblio_data.csv', sep=\";\", header=0)\n",
    "alt = pd.read_csv('./data/cleaned_altmetrics.csv', sep=\";\", header=0)"
   ]
  },
  {
   "cell_type": "code",
   "execution_count": 6,
   "metadata": {},
   "outputs": [],
   "source": [
    "data_grouped = alt.groupby('journal_name').agg(\n",
    "    max=pd.NamedAgg(column='altmetric_score', aggfunc=max),\n",
    "    min=pd.NamedAgg(column='altmetric_score', aggfunc=min),\n",
    "    mean=pd.NamedAgg(column='altmetric_score', aggfunc=np.mean),\n",
    "    median=pd.NamedAgg(column='altmetric_score', aggfunc=np.median),\n",
    ")\n",
    "data_grouped.reset_index(level=0, inplace=True)\n",
    "data_grouped = data_grouped\n"
   ]
  },
  {
   "cell_type": "code",
   "execution_count": 4,
   "metadata": {},
   "outputs": [],
   "source": [
    "\n",
    "select = widgets.Dropdown(\n",
    "    options=[('Max', 'max'), ('Min', 'min'), ('Mean', 'mean'), ('Median', 'median')],\n",
    "    value='max',\n",
    "    description='Type:',\n",
    "    disabled=False,\n",
    ")"
   ]
  },
  {
   "cell_type": "code",
   "execution_count": null,
   "metadata": {},
   "outputs": [],
   "source": [
    "\n",
    "@widgets.interact\n",
    "def graph(Options=[('Max', 'max'), ('Min', 'min'), ('Mean', 'mean'), ('Median', 'median')]):\n",
    "    fig = go.Figure(go.Bar(\n",
    "                x=data_grouped[Options],\n",
    "                y=data_grouped[\"journal_name\"],\n",
    "                orientation='h'))\n",
    "\n",
    "    # add vertival line for average\n",
    "    avg = np.mean(data_grouped[Options])\n",
    "    fig.update_layout(shapes=[\n",
    "        dict(\n",
    "        type= 'line',\n",
    "        yref= 'paper', y0= 0, y1= 1,\n",
    "        xref= 'x', x0= avg, x1= avg,\n",
    "        line=dict(color=\"red\")\n",
    "        )\n",
    "    ])\n",
    "\n",
    "    fig.update_layout(title='Altmetric Score per Journal',\n",
    "                    xaxis_title='Altmetric Score',\n",
    "                    yaxis_title='Journal Name')\n",
    "    return fig.show()\n",
    "\n"
   ]
  },
  {
   "cell_type": "code",
   "execution_count": null,
   "metadata": {},
   "outputs": [],
   "source": [
    "sources = ['news', 'blog', 'policy', 'patent', 'twitter', 'peer_review', 'weibo', 'facebook', 'wikipedia', 'google','linkedIn', 'reddit', 'pinterest', 'f1000', 'qa', 'videos', 'syllabi', 'mendeley']\n",
    "\n",
    "data = pd.pivot_table(alt, index=\"journal_name\", values=sources, aggfunc=np.sum)\n",
    "data.reset_index(level=0, inplace=True)\n",
    "labels = data.columns[1:].tolist()\n",
    "\n",
    "filters = widgets.SelectMultiple(\n",
    "        options=labels,\n",
    "        value=labels[0::3],\n",
    "        rows=10,\n",
    "        description='Fruits',\n",
    "        disabled=False\n",
    "    )\n",
    "\n",
    "@widgets.interact\n",
    "def pie(Journals=data_grouped[\"journal_name\"].tolist(), Filters=filters):\n",
    "    selected_filters = Filters\n",
    "    selected_journal = Journals\n",
    "    row = data.loc[data[\"journal_name\"] == selected_journal]\n",
    "    d = row.T\n",
    "    d = d.drop(d.index[[0]])\n",
    "    d.reset_index(level=0, inplace=True)\n",
    "    d.columns = ['labels', 'values']\n",
    "    d.values\n",
    "    fig = go.Figure(data=[go.Pie(labels=[x for x in d.labels if x in selected_filters], values=[x[1] for x in d.values if x[0] in selected_filters])])\n",
    "    fig.update_layout(title=selected_journal)\n",
    "    return fig.show()"
   ]
  }
 ],
 "metadata": {
  "language_info": {
   "codemirror_mode": {
    "name": "ipython",
    "version": 3
   },
   "file_extension": ".py",
   "mimetype": "text/x-python",
   "name": "python",
   "nbconvert_exporter": "python",
   "pygments_lexer": "ipython3",
   "version": "3.6.9-final"
  },
  "orig_nbformat": 2,
  "kernelspec": {
   "name": "python3",
   "display_name": "Python 3"
  }
 },
 "nbformat": 4,
 "nbformat_minor": 2
}